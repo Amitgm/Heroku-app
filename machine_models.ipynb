{
 "cells": [
  {
   "cell_type": "code",
   "execution_count": 76,
   "metadata": {},
   "outputs": [],
   "source": [
    "import pandas as pd\n",
    "from sklearn.model_selection import train_test_split\n",
    "from sklearn.ensemble import RandomForestClassifier\n",
    "from sklearn.metrics import accuracy_score, classification_report, confusion_matrix\n",
    "import pickle\n"
   ]
  },
  {
   "cell_type": "code",
   "execution_count": 2,
   "metadata": {},
   "outputs": [],
   "source": [
    "dataset = pd.read_csv(\"Student_performance_data _.csv\")"
   ]
  },
  {
   "cell_type": "code",
   "execution_count": 14,
   "metadata": {},
   "outputs": [
    {
     "data": {
      "text/html": [
       "<div>\n",
       "<style scoped>\n",
       "    .dataframe tbody tr th:only-of-type {\n",
       "        vertical-align: middle;\n",
       "    }\n",
       "\n",
       "    .dataframe tbody tr th {\n",
       "        vertical-align: top;\n",
       "    }\n",
       "\n",
       "    .dataframe thead th {\n",
       "        text-align: right;\n",
       "    }\n",
       "</style>\n",
       "<table border=\"1\" class=\"dataframe\">\n",
       "  <thead>\n",
       "    <tr style=\"text-align: right;\">\n",
       "      <th></th>\n",
       "      <th>StudentID</th>\n",
       "      <th>Age</th>\n",
       "      <th>Gender</th>\n",
       "      <th>Ethnicity</th>\n",
       "      <th>ParentalEducation</th>\n",
       "      <th>StudyTimeWeekly</th>\n",
       "      <th>Absences</th>\n",
       "      <th>Tutoring</th>\n",
       "      <th>ParentalSupport</th>\n",
       "      <th>Extracurricular</th>\n",
       "      <th>Sports</th>\n",
       "      <th>Music</th>\n",
       "      <th>Volunteering</th>\n",
       "      <th>GradeClass</th>\n",
       "    </tr>\n",
       "  </thead>\n",
       "  <tbody>\n",
       "    <tr>\n",
       "      <th>0</th>\n",
       "      <td>1001</td>\n",
       "      <td>17</td>\n",
       "      <td>1</td>\n",
       "      <td>0</td>\n",
       "      <td>2</td>\n",
       "      <td>19.833723</td>\n",
       "      <td>7</td>\n",
       "      <td>1</td>\n",
       "      <td>2</td>\n",
       "      <td>0</td>\n",
       "      <td>0</td>\n",
       "      <td>1</td>\n",
       "      <td>0</td>\n",
       "      <td>2.0</td>\n",
       "    </tr>\n",
       "    <tr>\n",
       "      <th>1</th>\n",
       "      <td>1002</td>\n",
       "      <td>18</td>\n",
       "      <td>0</td>\n",
       "      <td>0</td>\n",
       "      <td>1</td>\n",
       "      <td>15.408756</td>\n",
       "      <td>0</td>\n",
       "      <td>0</td>\n",
       "      <td>1</td>\n",
       "      <td>0</td>\n",
       "      <td>0</td>\n",
       "      <td>0</td>\n",
       "      <td>0</td>\n",
       "      <td>1.0</td>\n",
       "    </tr>\n",
       "    <tr>\n",
       "      <th>2</th>\n",
       "      <td>1003</td>\n",
       "      <td>15</td>\n",
       "      <td>0</td>\n",
       "      <td>2</td>\n",
       "      <td>3</td>\n",
       "      <td>4.210570</td>\n",
       "      <td>26</td>\n",
       "      <td>0</td>\n",
       "      <td>2</td>\n",
       "      <td>0</td>\n",
       "      <td>0</td>\n",
       "      <td>0</td>\n",
       "      <td>0</td>\n",
       "      <td>4.0</td>\n",
       "    </tr>\n",
       "    <tr>\n",
       "      <th>3</th>\n",
       "      <td>1004</td>\n",
       "      <td>17</td>\n",
       "      <td>1</td>\n",
       "      <td>0</td>\n",
       "      <td>3</td>\n",
       "      <td>10.028829</td>\n",
       "      <td>14</td>\n",
       "      <td>0</td>\n",
       "      <td>3</td>\n",
       "      <td>1</td>\n",
       "      <td>0</td>\n",
       "      <td>0</td>\n",
       "      <td>0</td>\n",
       "      <td>3.0</td>\n",
       "    </tr>\n",
       "    <tr>\n",
       "      <th>4</th>\n",
       "      <td>1005</td>\n",
       "      <td>17</td>\n",
       "      <td>1</td>\n",
       "      <td>0</td>\n",
       "      <td>2</td>\n",
       "      <td>4.672495</td>\n",
       "      <td>17</td>\n",
       "      <td>1</td>\n",
       "      <td>3</td>\n",
       "      <td>0</td>\n",
       "      <td>0</td>\n",
       "      <td>0</td>\n",
       "      <td>0</td>\n",
       "      <td>4.0</td>\n",
       "    </tr>\n",
       "    <tr>\n",
       "      <th>...</th>\n",
       "      <td>...</td>\n",
       "      <td>...</td>\n",
       "      <td>...</td>\n",
       "      <td>...</td>\n",
       "      <td>...</td>\n",
       "      <td>...</td>\n",
       "      <td>...</td>\n",
       "      <td>...</td>\n",
       "      <td>...</td>\n",
       "      <td>...</td>\n",
       "      <td>...</td>\n",
       "      <td>...</td>\n",
       "      <td>...</td>\n",
       "      <td>...</td>\n",
       "    </tr>\n",
       "    <tr>\n",
       "      <th>2387</th>\n",
       "      <td>3388</td>\n",
       "      <td>18</td>\n",
       "      <td>1</td>\n",
       "      <td>0</td>\n",
       "      <td>3</td>\n",
       "      <td>10.680555</td>\n",
       "      <td>2</td>\n",
       "      <td>0</td>\n",
       "      <td>4</td>\n",
       "      <td>1</td>\n",
       "      <td>0</td>\n",
       "      <td>0</td>\n",
       "      <td>0</td>\n",
       "      <td>0.0</td>\n",
       "    </tr>\n",
       "    <tr>\n",
       "      <th>2388</th>\n",
       "      <td>3389</td>\n",
       "      <td>17</td>\n",
       "      <td>0</td>\n",
       "      <td>0</td>\n",
       "      <td>1</td>\n",
       "      <td>7.583217</td>\n",
       "      <td>4</td>\n",
       "      <td>1</td>\n",
       "      <td>4</td>\n",
       "      <td>0</td>\n",
       "      <td>1</td>\n",
       "      <td>0</td>\n",
       "      <td>0</td>\n",
       "      <td>4.0</td>\n",
       "    </tr>\n",
       "    <tr>\n",
       "      <th>2389</th>\n",
       "      <td>3390</td>\n",
       "      <td>16</td>\n",
       "      <td>1</td>\n",
       "      <td>0</td>\n",
       "      <td>2</td>\n",
       "      <td>6.805500</td>\n",
       "      <td>20</td>\n",
       "      <td>0</td>\n",
       "      <td>2</td>\n",
       "      <td>0</td>\n",
       "      <td>0</td>\n",
       "      <td>0</td>\n",
       "      <td>1</td>\n",
       "      <td>2.0</td>\n",
       "    </tr>\n",
       "    <tr>\n",
       "      <th>2390</th>\n",
       "      <td>3391</td>\n",
       "      <td>16</td>\n",
       "      <td>1</td>\n",
       "      <td>1</td>\n",
       "      <td>0</td>\n",
       "      <td>12.416653</td>\n",
       "      <td>17</td>\n",
       "      <td>0</td>\n",
       "      <td>2</td>\n",
       "      <td>0</td>\n",
       "      <td>1</td>\n",
       "      <td>1</td>\n",
       "      <td>0</td>\n",
       "      <td>1.0</td>\n",
       "    </tr>\n",
       "    <tr>\n",
       "      <th>2391</th>\n",
       "      <td>3392</td>\n",
       "      <td>16</td>\n",
       "      <td>1</td>\n",
       "      <td>0</td>\n",
       "      <td>2</td>\n",
       "      <td>17.819907</td>\n",
       "      <td>13</td>\n",
       "      <td>0</td>\n",
       "      <td>2</td>\n",
       "      <td>0</td>\n",
       "      <td>0</td>\n",
       "      <td>0</td>\n",
       "      <td>1</td>\n",
       "      <td>1.0</td>\n",
       "    </tr>\n",
       "  </tbody>\n",
       "</table>\n",
       "<p>2392 rows × 14 columns</p>\n",
       "</div>"
      ],
      "text/plain": [
       "      StudentID  Age  Gender  Ethnicity  ParentalEducation  StudyTimeWeekly  \\\n",
       "0          1001   17       1          0                  2        19.833723   \n",
       "1          1002   18       0          0                  1        15.408756   \n",
       "2          1003   15       0          2                  3         4.210570   \n",
       "3          1004   17       1          0                  3        10.028829   \n",
       "4          1005   17       1          0                  2         4.672495   \n",
       "...         ...  ...     ...        ...                ...              ...   \n",
       "2387       3388   18       1          0                  3        10.680555   \n",
       "2388       3389   17       0          0                  1         7.583217   \n",
       "2389       3390   16       1          0                  2         6.805500   \n",
       "2390       3391   16       1          1                  0        12.416653   \n",
       "2391       3392   16       1          0                  2        17.819907   \n",
       "\n",
       "      Absences  Tutoring  ParentalSupport  Extracurricular  Sports  Music  \\\n",
       "0            7         1                2                0       0      1   \n",
       "1            0         0                1                0       0      0   \n",
       "2           26         0                2                0       0      0   \n",
       "3           14         0                3                1       0      0   \n",
       "4           17         1                3                0       0      0   \n",
       "...        ...       ...              ...              ...     ...    ...   \n",
       "2387         2         0                4                1       0      0   \n",
       "2388         4         1                4                0       1      0   \n",
       "2389        20         0                2                0       0      0   \n",
       "2390        17         0                2                0       1      1   \n",
       "2391        13         0                2                0       0      0   \n",
       "\n",
       "      Volunteering  GradeClass  \n",
       "0                0         2.0  \n",
       "1                0         1.0  \n",
       "2                0         4.0  \n",
       "3                0         3.0  \n",
       "4                0         4.0  \n",
       "...            ...         ...  \n",
       "2387             0         0.0  \n",
       "2388             0         4.0  \n",
       "2389             1         2.0  \n",
       "2390             0         1.0  \n",
       "2391             1         1.0  \n",
       "\n",
       "[2392 rows x 14 columns]"
      ]
     },
     "execution_count": 14,
     "metadata": {},
     "output_type": "execute_result"
    }
   ],
   "source": [
    "dataset"
   ]
  },
  {
   "cell_type": "code",
   "execution_count": 5,
   "metadata": {},
   "outputs": [],
   "source": [
    "dataset.drop([\"GPA\"],axis=1,inplace=True)"
   ]
  },
  {
   "cell_type": "code",
   "execution_count": 20,
   "metadata": {},
   "outputs": [],
   "source": [
    "dataset.drop([\"StudentID\"],axis=1,inplace=True)"
   ]
  },
  {
   "cell_type": "code",
   "execution_count": 82,
   "metadata": {},
   "outputs": [
    {
     "data": {
      "text/plain": [
       "Age                    int64\n",
       "Gender                 int64\n",
       "Ethnicity              int64\n",
       "ParentalEducation      int64\n",
       "StudyTimeWeekly      float64\n",
       "Absences               int64\n",
       "Tutoring               int64\n",
       "ParentalSupport        int64\n",
       "Extracurricular        int64\n",
       "Sports                 int64\n",
       "Music                  int64\n",
       "Volunteering           int64\n",
       "GradeClass           float64\n",
       "dtype: object"
      ]
     },
     "execution_count": 82,
     "metadata": {},
     "output_type": "execute_result"
    }
   ],
   "source": [
    "dataset.dtypes"
   ]
  },
  {
   "cell_type": "code",
   "execution_count": 21,
   "metadata": {},
   "outputs": [],
   "source": [
    "dataset_x = dataset.iloc[:,:-1]\n",
    "dataset_y = dataset.iloc[:,-1]"
   ]
  },
  {
   "cell_type": "code",
   "execution_count": 32,
   "metadata": {},
   "outputs": [],
   "source": [
    "train_x,test_x,train_y,test_y = train_test_split(dataset_x,dataset_y,test_size=0.3,random_state=42)"
   ]
  },
  {
   "cell_type": "code",
   "execution_count": 50,
   "metadata": {},
   "outputs": [],
   "source": [
    "classifier = RandomForestClassifier(n_estimators=150,random_state=42)"
   ]
  },
  {
   "cell_type": "code",
   "execution_count": 51,
   "metadata": {},
   "outputs": [
    {
     "data": {
      "text/plain": [
       "RandomForestClassifier(n_estimators=150, random_state=42)"
      ]
     },
     "execution_count": 51,
     "metadata": {},
     "output_type": "execute_result"
    }
   ],
   "source": [
    "classifier.fit(train_x,train_y)"
   ]
  },
  {
   "cell_type": "code",
   "execution_count": 52,
   "metadata": {},
   "outputs": [],
   "source": [
    "y_pred = classifier.predict(test_x)"
   ]
  },
  {
   "cell_type": "code",
   "execution_count": 53,
   "metadata": {},
   "outputs": [
    {
     "data": {
      "text/plain": [
       "array([4., 2., 4., 1., 4., 3., 4., 4., 3., 4., 2., 4., 2., 2., 2., 4., 4.,\n",
       "       4., 4., 3., 3., 4., 4., 1., 4., 4., 4., 2., 4., 4., 4., 4., 2., 1.,\n",
       "       4., 4., 2., 2., 0., 4., 2., 1., 4., 4., 4., 2., 2., 4., 2., 4., 2.,\n",
       "       1., 4., 4., 4., 1., 3., 1., 4., 3., 4., 4., 3., 4., 4., 3., 1., 2.,\n",
       "       4., 1., 1., 4., 1., 2., 4., 1., 4., 4., 4., 4., 4., 1., 3., 4., 4.,\n",
       "       4., 0., 4., 4., 4., 2., 4., 4., 4., 4., 4., 1., 4., 4., 4., 4., 3.,\n",
       "       4., 4., 4., 3., 2., 4., 4., 4., 4., 4., 1., 4., 4., 4., 3., 2., 4.,\n",
       "       4., 4., 1., 1., 4., 4., 4., 3., 4., 4., 2., 4., 0., 2., 4., 4., 4.,\n",
       "       3., 4., 4., 4., 3., 4., 1., 4., 1., 4., 4., 3., 2., 4., 2., 4., 1.,\n",
       "       4., 4., 4., 4., 4., 4., 4., 4., 4., 4., 4., 4., 4., 4., 4., 2., 2.,\n",
       "       4., 1., 2., 4., 4., 3., 3., 4., 4., 4., 1., 4., 4., 1., 2., 1., 2.,\n",
       "       4., 4., 4., 4., 3., 4., 4., 4., 4., 4., 2., 2., 2., 4., 2., 4., 3.,\n",
       "       3., 3., 4., 1., 3., 4., 4., 4., 3., 2., 2., 4., 2., 2., 4., 1., 4.,\n",
       "       2., 2., 4., 4., 4., 1., 2., 4., 3., 4., 4., 3., 4., 2., 3., 4., 4.,\n",
       "       2., 4., 1., 4., 4., 2., 4., 4., 3., 4., 4., 4., 4., 0., 3., 4., 2.,\n",
       "       4., 4., 3., 4., 4., 4., 4., 4., 4., 4., 1., 2., 4., 2., 3., 4., 1.,\n",
       "       4., 4., 4., 2., 4., 4., 4., 2., 1., 2., 4., 4., 1., 3., 4., 4., 4.,\n",
       "       4., 1., 4., 2., 4., 3., 4., 2., 4., 4., 2., 2., 4., 4., 1., 3., 2.,\n",
       "       4., 2., 4., 4., 4., 4., 4., 4., 4., 4., 1., 2., 2., 4., 4., 4., 4.,\n",
       "       3., 2., 4., 4., 4., 2., 4., 3., 2., 3., 2., 1., 2., 3., 4., 4., 4.,\n",
       "       4., 4., 4., 4., 4., 3., 1., 1., 4., 1., 1., 3., 4., 2., 4., 4., 3.,\n",
       "       4., 4., 4., 3., 2., 2., 4., 4., 2., 1., 2., 2., 3., 4., 3., 3., 3.,\n",
       "       3., 4., 4., 3., 1., 4., 3., 3., 4., 2., 2., 4., 3., 4., 2., 4., 3.,\n",
       "       4., 4., 3., 3., 2., 2., 2., 3., 2., 3., 3., 3., 2., 3., 2., 4., 2.,\n",
       "       3., 2., 4., 4., 3., 2., 1., 3., 4., 1., 2., 4., 4., 4., 3., 4., 4.,\n",
       "       4., 4., 3., 3., 1., 2., 4., 4., 1., 3., 2., 4., 1., 3., 4., 4., 2.,\n",
       "       1., 1., 2., 1., 4., 2., 4., 4., 2., 4., 2., 2., 1., 4., 4., 4., 4.,\n",
       "       2., 4., 4., 4., 4., 3., 4., 4., 2., 2., 3., 4., 4., 4., 4., 4., 4.,\n",
       "       2., 2., 4., 4., 4., 4., 4., 4., 1., 2., 4., 4., 4., 4., 1., 4., 2.,\n",
       "       2., 3., 3., 4., 2., 4., 4., 4., 2., 1., 3., 2., 4., 4., 0., 1., 2.,\n",
       "       4., 1., 1., 4., 4., 2., 4., 4., 1., 3., 3., 4., 4., 4., 4., 3., 2.,\n",
       "       4., 3., 2., 4., 4., 4., 4., 3., 4., 4., 4., 1., 2., 4., 4., 4., 4.,\n",
       "       4., 4., 2., 2., 4., 2., 3., 3., 4., 4., 3., 2., 4., 1., 4., 1., 1.,\n",
       "       2., 1., 4., 3., 4., 1., 2., 2., 3., 4., 4., 0., 1., 4., 1., 2., 4.,\n",
       "       4., 4., 3., 4., 4., 4., 4., 3., 4., 4., 2., 4., 3., 2., 4., 4., 4.,\n",
       "       2., 2., 4., 1., 4., 2., 1., 4., 1., 4., 4., 4., 2., 0., 4., 2., 2.,\n",
       "       4., 4., 4., 2., 2., 4., 4., 4., 2., 3., 2., 4., 4., 4., 4., 1., 4.,\n",
       "       0., 1., 4., 4., 3., 4., 4., 3., 2., 4., 4., 4., 4., 2., 3., 2., 2.,\n",
       "       4., 3., 4., 4., 4., 4., 2., 3., 4., 4., 1., 2., 4., 3., 4., 4., 4.,\n",
       "       3., 4., 4., 4., 4., 3., 4., 4., 2., 2., 4., 2., 2., 4., 1., 1., 4.,\n",
       "       4., 1., 2., 4., 4., 4., 4., 1., 2., 3., 4., 4., 4., 2., 2., 4., 4.,\n",
       "       4., 4., 3., 4., 3., 4., 1., 4., 2., 4., 2., 1., 4., 4., 4., 4., 4.,\n",
       "       4., 4., 2., 4.])"
      ]
     },
     "execution_count": 53,
     "metadata": {},
     "output_type": "execute_result"
    }
   ],
   "source": [
    "y_pred"
   ]
  },
  {
   "cell_type": "code",
   "execution_count": 54,
   "metadata": {},
   "outputs": [],
   "source": [
    "accuracy = accuracy_score(test_y, y_pred)\n",
    "conf_matrix = confusion_matrix(test_y, y_pred)\n",
    "class_report = classification_report(test_y, y_pred)"
   ]
  },
  {
   "cell_type": "code",
   "execution_count": 55,
   "metadata": {},
   "outputs": [
    {
     "data": {
      "text/plain": [
       "0.7061281337047354"
      ]
     },
     "execution_count": 55,
     "metadata": {},
     "output_type": "execute_result"
    }
   ],
   "source": [
    "accuracy"
   ]
  },
  {
   "cell_type": "code",
   "execution_count": 57,
   "metadata": {},
   "outputs": [
    {
     "data": {
      "text/plain": [
       "1004    4.0\n",
       "196     1.0\n",
       "2342    2.0\n",
       "1708    0.0\n",
       "435     4.0\n",
       "       ... \n",
       "1626    4.0\n",
       "32      4.0\n",
       "952     4.0\n",
       "787     2.0\n",
       "2149    4.0\n",
       "Name: GradeClass, Length: 718, dtype: float64"
      ]
     },
     "execution_count": 57,
     "metadata": {},
     "output_type": "execute_result"
    }
   ],
   "source": [
    "test_y"
   ]
  },
  {
   "cell_type": "code",
   "execution_count": 96,
   "metadata": {},
   "outputs": [
    {
     "data": {
      "text/plain": [
       "array([3.])"
      ]
     },
     "execution_count": 96,
     "metadata": {},
     "output_type": "execute_result"
    }
   ],
   "source": [
    "# DOING THE PREDICTIONS WITH TEST DATA\n",
    "import numpy as np\n",
    "classifier.predict(np.array(test_x.iloc[8,:]).reshape(1,-1))"
   ]
  },
  {
   "cell_type": "code",
   "execution_count": 95,
   "metadata": {},
   "outputs": [
    {
     "data": {
      "text/plain": [
       "array([[15.       ,  0.       ,  0.       ,  1.       , 12.1905702,\n",
       "        13.       ,  1.       ,  2.       ,  0.       ,  0.       ,\n",
       "         0.       ,  0.       ]])"
      ]
     },
     "execution_count": 95,
     "metadata": {},
     "output_type": "execute_result"
    }
   ],
   "source": [
    "np.array(test_x.iloc[8,:]).reshape(1,-1)"
   ]
  },
  {
   "cell_type": "code",
   "execution_count": 90,
   "metadata": {},
   "outputs": [
    {
     "data": {
      "text/plain": [
       "array([4., 1., 2., 0., 4., 2., 3., 3., 3., 4., 1., 4., 2., 2., 2., 4., 4.,\n",
       "       4., 3., 3., 4., 4., 4., 1., 4., 4., 4., 1., 3., 3., 3., 4., 2., 1.,\n",
       "       4., 4., 1., 0., 1., 4., 2., 0., 4., 3., 4., 3., 2., 4., 0., 4., 1.,\n",
       "       1., 4., 4., 4., 1., 0., 1., 4., 3., 4., 3., 3., 4., 4., 4., 4., 3.,\n",
       "       4., 1., 0., 4., 2., 2., 4., 2., 3., 4., 4., 4., 3., 2., 3., 4., 4.,\n",
       "       4., 0., 4., 3., 4., 2., 4., 4., 4., 2., 4., 1., 4., 4., 4., 4., 3.,\n",
       "       4., 1., 4., 3., 2., 4., 4., 4., 4., 3., 2., 4., 4., 4., 3., 3., 4.,\n",
       "       3., 4., 1., 0., 4., 4., 4., 2., 4., 3., 2., 4., 0., 2., 4., 4., 4.,\n",
       "       3., 4., 4., 4., 2., 4., 1., 4., 2., 4., 4., 2., 3., 4., 1., 4., 0.,\n",
       "       4., 4., 4., 4., 4., 4., 1., 4., 4., 4., 4., 4., 4., 4., 4., 3., 0.,\n",
       "       4., 1., 2., 4., 4., 2., 3., 4., 3., 4., 2., 4., 4., 2., 0., 2., 1.,\n",
       "       3., 4., 4., 4., 3., 4., 4., 4., 4., 4., 3., 2., 3., 4., 1., 4., 2.,\n",
       "       2., 3., 4., 2., 3., 4., 4., 4., 4., 2., 2., 4., 2., 1., 4., 2., 4.,\n",
       "       2., 0., 4., 4., 4., 1., 2., 4., 4., 4., 3., 2., 4., 2., 2., 4., 1.,\n",
       "       2., 4., 0., 4., 4., 3., 4., 4., 3., 4., 4., 3., 4., 2., 3., 4., 3.,\n",
       "       4., 4., 3., 4., 4., 3., 4., 4., 4., 4., 1., 3., 4., 2., 3., 4., 3.,\n",
       "       4., 4., 4., 3., 4., 4., 4., 2., 1., 2., 4., 4., 1., 3., 4., 4., 3.,\n",
       "       4., 0., 4., 2., 4., 2., 4., 1., 4., 4., 1., 2., 4., 4., 1., 4., 2.,\n",
       "       2., 2., 4., 4., 4., 4., 4., 0., 4., 4., 2., 3., 3., 4., 4., 4., 4.,\n",
       "       3., 1., 4., 2., 4., 2., 4., 4., 2., 3., 2., 1., 2., 2., 4., 4., 4.,\n",
       "       4., 4., 0., 4., 3., 2., 1., 1., 4., 1., 1., 3., 3., 3., 3., 4., 3.,\n",
       "       4., 4., 3., 3., 1., 3., 2., 4., 2., 0., 2., 4., 3., 4., 3., 3., 1.,\n",
       "       2., 4., 4., 0., 1., 4., 4., 2., 4., 2., 2., 4., 4., 4., 2., 4., 3.,\n",
       "       4., 4., 2., 3., 2., 3., 2., 3., 2., 2., 3., 3., 1., 3., 1., 4., 0.,\n",
       "       3., 1., 3., 4., 3., 3., 1., 4., 4., 0., 2., 4., 4., 4., 2., 1., 4.,\n",
       "       4., 4., 3., 4., 2., 1., 4., 4., 2., 2., 3., 4., 1., 3., 4., 4., 1.,\n",
       "       2., 1., 2., 2., 4., 2., 4., 4., 3., 4., 2., 4., 0., 3., 4., 4., 4.,\n",
       "       4., 4., 4., 4., 4., 3., 4., 4., 2., 1., 2., 4., 3., 4., 4., 4., 3.,\n",
       "       3., 2., 4., 4., 4., 4., 4., 4., 1., 2., 4., 4., 3., 1., 1., 4., 2.,\n",
       "       2., 3., 3., 2., 3., 4., 4., 4., 3., 2., 4., 2., 4., 4., 0., 1., 1.,\n",
       "       4., 1., 1., 2., 0., 0., 4., 4., 0., 3., 3., 4., 3., 4., 4., 4., 2.,\n",
       "       4., 4., 2., 4., 4., 4., 4., 0., 4., 4., 4., 2., 2., 4., 3., 4., 4.,\n",
       "       4., 4., 2., 2., 4., 1., 3., 4., 4., 4., 3., 2., 1., 1., 4., 1., 0.,\n",
       "       1., 2., 3., 3., 4., 1., 1., 1., 3., 4., 4., 1., 1., 4., 1., 2., 4.,\n",
       "       4., 4., 3., 3., 4., 4., 4., 3., 4., 2., 2., 4., 3., 2., 4., 4., 4.,\n",
       "       1., 2., 4., 1., 4., 2., 2., 4., 1., 4., 3., 3., 2., 1., 4., 3., 2.,\n",
       "       4., 3., 3., 1., 2., 4., 4., 4., 3., 3., 3., 4., 4., 4., 4., 1., 0.,\n",
       "       3., 2., 4., 4., 3., 4., 4., 3., 3., 4., 4., 4., 4., 3., 2., 3., 3.,\n",
       "       4., 4., 4., 4., 4., 4., 3., 3., 4., 4., 0., 2., 4., 1., 4., 4., 4.,\n",
       "       3., 4., 3., 4., 4., 0., 4., 4., 2., 4., 4., 1., 2., 4., 0., 1., 4.,\n",
       "       4., 1., 2., 4., 4., 4., 4., 2., 2., 3., 4., 4., 4., 1., 2., 4., 4.,\n",
       "       4., 4., 3., 4., 3., 4., 0., 4., 2., 4., 1., 1., 3., 4., 4., 4., 4.,\n",
       "       4., 4., 2., 4.])"
      ]
     },
     "execution_count": 90,
     "metadata": {},
     "output_type": "execute_result"
    }
   ],
   "source": []
  },
  {
   "cell_type": "code",
   "execution_count": 77,
   "metadata": {},
   "outputs": [],
   "source": [
    "with open(\"classifer\",\"wb\") as file:\n",
    "    pickle.dump(classifier,file)"
   ]
  }
 ],
 "metadata": {
  "kernelspec": {
   "display_name": "Python 3",
   "language": "python",
   "name": "python3"
  },
  "language_info": {
   "codemirror_mode": {
    "name": "ipython",
    "version": 3
   },
   "file_extension": ".py",
   "mimetype": "text/x-python",
   "name": "python",
   "nbconvert_exporter": "python",
   "pygments_lexer": "ipython3",
   "version": "3.9.5"
  }
 },
 "nbformat": 4,
 "nbformat_minor": 2
}
